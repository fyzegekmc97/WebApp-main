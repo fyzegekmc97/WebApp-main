{
 "cells": [
  {
   "cell_type": "code",
   "execution_count": 2,
   "metadata": {},
   "outputs": [],
   "source": [
    "import cv2\n",
    "import numpy as np\n",
    "import tensorflow as tf\n",
    "from keras import layers, models, metrics, losses\n",
    "import os\n",
    "import communication\n",
    "import pickle\n",
    "import socket\n",
    "from math import ceil"
   ]
  },
  {
   "cell_type": "code",
   "execution_count": 3,
   "metadata": {},
   "outputs": [],
   "source": [
    "json_file = open(\"model.json\", \"r\")\n",
    "model_json = json_file.read()\n",
    "json_file.close()\n",
    "loaded_model = models.model_from_json(model_json)\n",
    "loaded_model.load_weights(\"model.h5\")"
   ]
  },
  {
   "cell_type": "code",
   "execution_count": 4,
   "metadata": {},
   "outputs": [
    {
     "name": "stderr",
     "output_type": "stream",
     "text": [
      "C:\\Users\\ege27\\AppData\\Local\\Packages\\PythonSoftwareFoundation.Python.3.9_qbz5n2kfra8p0\\LocalCache\\local-packages\\Python39\\site-packages\\numpy\\lib\\npyio.py:501: VisibleDeprecationWarning: Creating an ndarray from ragged nested sequences (which is a list-or-tuple of lists-or-tuples-or ndarrays with different lengths or shapes) is deprecated. If you meant to do this, you must specify 'dtype=object' when creating the ndarray.\n",
      "  arr = np.asanyarray(arr)\n"
     ]
    }
   ],
   "source": [
    "np.save(\"my_weights.npy\",loaded_model.weights,True)"
   ]
  },
  {
   "cell_type": "code",
   "execution_count": 5,
   "metadata": {},
   "outputs": [],
   "source": [
    "some_obj = np.load(\"my_weights.npy\", allow_pickle=True)"
   ]
  },
  {
   "cell_type": "code",
   "execution_count": 6,
   "metadata": {},
   "outputs": [],
   "source": [
    "model = models.Sequential()\n",
    "model.add(layers.Conv2D(16, (3, 3), activation='relu', input_shape=(200, 200, 1)))\n",
    "model.add(layers.MaxPooling2D((2, 2)))\n",
    "model.add(layers.Conv2D(32, (3, 3), activation='relu'))\n",
    "model.add(layers.MaxPooling2D((2, 2)))\n",
    "model.add(layers.Flatten())\n",
    "model.add(layers.Dense(128, activation='relu'))\n",
    "model.add(layers.Dense(2))"
   ]
  },
  {
   "cell_type": "code",
   "execution_count": 7,
   "metadata": {},
   "outputs": [],
   "source": [
    "model.set_weights(some_obj)"
   ]
  },
  {
   "cell_type": "code",
   "execution_count": 8,
   "metadata": {},
   "outputs": [],
   "source": [
    "some_file = open(\"my_weights.npy\", \"rb\")"
   ]
  },
  {
   "cell_type": "code",
   "execution_count": 9,
   "metadata": {},
   "outputs": [],
   "source": [
    "my_bytes = some_file.read()"
   ]
  },
  {
   "cell_type": "code",
   "execution_count": 10,
   "metadata": {},
   "outputs": [
    {
     "name": "stdout",
     "output_type": "stream",
     "text": [
      "37770893\n"
     ]
    }
   ],
   "source": [
    "print(len(my_bytes))"
   ]
  },
  {
   "cell_type": "code",
   "execution_count": 11,
   "metadata": {},
   "outputs": [],
   "source": [
    "pickled_weights = pickle.dumps(model.weights)"
   ]
  },
  {
   "cell_type": "code",
   "execution_count": 12,
   "metadata": {},
   "outputs": [
    {
     "name": "stdout",
     "output_type": "stream",
     "text": [
      "37770539\n"
     ]
    }
   ],
   "source": [
    "print(len(pickled_weights))"
   ]
  },
  {
   "cell_type": "code",
   "execution_count": 13,
   "metadata": {},
   "outputs": [],
   "source": [
    "# all_packets_sent = False\n",
    "# total_packet_count = ceil(len(my_bytes) / 1500)"
   ]
  },
  {
   "cell_type": "code",
   "execution_count": 14,
   "metadata": {},
   "outputs": [],
   "source": [
    "# packet_list = []\n",
    "# for i in range(0, total_packet_count):\n",
    "#     if i != total_packet_count-1:\n",
    "#         packet_list.append(my_bytes[i*1500:i*1500+1500])\n",
    "#     else:\n",
    "#         packet_list.append(my_bytes[i*1500:])"
   ]
  },
  {
   "cell_type": "code",
   "execution_count": 15,
   "metadata": {},
   "outputs": [],
   "source": [
    "some_socket = socket.socket()\n",
    "some_socket.bind((\"172.20.32.45\", 5000))\n",
    "some_socket.listen()\n",
    "connection, remote_address = some_socket.accept()\n",
    "communication.send_data(connection, pickled_weights)"
   ]
  },
  {
   "cell_type": "code",
   "execution_count": null,
   "metadata": {},
   "outputs": [],
   "source": [
    "# current_index = 0\n",
    "# some_udp_socket = socket.socket(socket.AF_INET,socket.SOCK_DGRAM)\n",
    "# some_udp_socket.settimeout(10.0)\n",
    "# some_udp_socket.setsockopt(socket.SOL_SOCKET,socket.SO_REUSEADDR,1)\n",
    "# some_udp_socket.bind((\"172.20.32.45\", 5000))\n",
    "# while not all_packets_sent:\n",
    "#     some_udp_socket.sendto(packet_list[current_index], (\"172.20.32.81\", 3000))\n",
    "#     try:\n",
    "#         recvd_bytes = some_udp_socket.recv(1000)\n",
    "#     except:\n",
    "#         continue\n",
    "#     recvd_bytes_decoded = recvd_bytes.decode()\n",
    "#     if current_index in recvd_bytes_decoded:\n",
    "#         current_index += 1\n",
    "#         print(\"Current index \", current_index)\n",
    "#     else:\n",
    "#         pass\n",
    "#     all_packets_sent = current_index < total_packet_count\n",
    "\n",
    "# for i in range(10):\n",
    "#     some_udp_socket.sendto(\"Done\".encode(), (\"172.20.32.81\", 3000))"
   ]
  },
  {
   "cell_type": "code",
   "execution_count": null,
   "metadata": {},
   "outputs": [],
   "source": []
  }
 ],
 "metadata": {
  "kernelspec": {
   "display_name": "Python 3.9.13 64-bit (windows store)",
   "language": "python",
   "name": "python3"
  },
  "language_info": {
   "codemirror_mode": {
    "name": "ipython",
    "version": 3
   },
   "file_extension": ".py",
   "mimetype": "text/x-python",
   "name": "python",
   "nbconvert_exporter": "python",
   "pygments_lexer": "ipython3",
   "version": "3.9.13"
  },
  "orig_nbformat": 4,
  "vscode": {
   "interpreter": {
    "hash": "4b96815ef6ff928cfded1d52665ed7e6da384af608ad412e84b35b247e2c2b95"
   }
  }
 },
 "nbformat": 4,
 "nbformat_minor": 2
}
